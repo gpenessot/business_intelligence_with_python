{
 "cells": [
  {
   "cell_type": "markdown",
   "id": "7596277c",
   "metadata": {},
   "source": [
    "# Chapitre 1\n",
    "\n",
    "Cette partie concerne les \"bonnes pratiques\" de code. Généralement parlant, toute pratique issue du monde du software engineering est à mettre en place dans vos projets dès la première ligne de code. Nous passons ici les bases de la syntaxe pour présenter quelques points contenant du code dnas le livre."
   ]
  },
  {
   "cell_type": "markdown",
   "id": "17349692",
   "metadata": {},
   "source": [
    "## Docstrings & Type hints\n",
    "\n",
    "**Type hints**\n",
    "\n",
    "L'utilisation des _type hints_ améliore la lisibilité du code et facilite la détection d'erreurs. Bien que Python soit un langage à typage dynamique, les _type hints_ permettent de spécifier explicitement les types attendus pour les arguments des fonctions et leurs valeurs de retour.\n",
    "\n",
    "**Structure d'une docstring**\n",
    "\n",
    "1. **Première ligne :** Une brève description concise de l'objet (fonction, classe, module).\n",
    "2. **Ligne vide :** Sépare la description concise du reste de la docstring.\n",
    "3. **Description détaillée :** Explication plus approfondie du fonctionnement, des paramètres, des valeurs de retour, etc.\n",
    "4. **Sections optionnelles :**\n",
    "    - `Args:` (ou `Parameters:`) Description des paramètres d'entrée et de leurs types.\n",
    "    - `Returns:` (ou `Yields:`) Description de la valeur de retour ou des valeurs générées.\n",
    "    - `Raises:` Description des exceptions pouvant être levées.\n",
    "    - `Example:` Un exemple d'utilisation de la fonction et de la sortie associée"
   ]
  },
  {
   "cell_type": "code",
   "execution_count": 4,
   "id": "c09a9b49",
   "metadata": {},
   "outputs": [],
   "source": [
    "def calculate_moving_average(data: list[float], window: int) -> list[float]:\n",
    "    \"\"\"\n",
    "    Calculate the moving average of a list of numbers.\n",
    "\n",
    "    This function computes the simple moving average of a given list of numbers\n",
    "    using a specified window size. The moving average is calculated for each\n",
    "    point by taking the average of the 'window' number of points before it.\n",
    "\n",
    "    Args:\n",
    "        data (List[float]): A list of numbers to calculate the moving average from.\n",
    "        window (int): The size of the moving window.\n",
    "\n",
    "    Returns:\n",
    "        List[float]: A list of moving averages, with length equal to the input data.\n",
    "\n",
    "    Raises:\n",
    "        ValueError: If the window size is larger than the data length or not positive.\n",
    "\n",
    "    Example:\n",
    "        >>> calculate_moving_average([1, 2, 3, 4, 5], 3)\n",
    "        [1.0, 1.5, 2.0, 3.0, 4.0]\n",
    "    \"\"\"\n",
    "    if window > len(data) or window <= 0:\n",
    "        raise ValueError(\"Window size must be positive and not larger than data length\")\n",
    "    \n",
    "    result = []\n",
    "    for i in range(len(data)):\n",
    "        if i < window:\n",
    "            result.append(sum(data[:i+1]) / (i+1))\n",
    "        else:\n",
    "            result.append(sum(data[i-window+1:i+1]) / window)\n",
    "    return result"
   ]
  },
  {
   "cell_type": "markdown",
   "id": "f2fafe50",
   "metadata": {},
   "source": [
    "## Logging\n",
    "\n",
    "Utiliser le logging en Python est extrêmement utile pour tracer et diagnostiquer l'exécution d'un programme. Les messages de log permettent de suivre le déroulement du code, d'identifier les erreurs, et de comprendre le flux d'exécution, ce qui facilite grandement le processus de débogage. Il existe une librairie python par défaut qui est `logging`. Cependant, elle est assez complexe à utiliser et nous vous conseillons de travailler avec `loguru` qui est presque aussi simple qu'un `print` mais avec toutes les fonctionnalités de `logging`."
   ]
  },
  {
   "cell_type": "code",
   "execution_count": 1,
   "id": "9cb6f758-3b1d-4644-b8d0-19053db2dbb7",
   "metadata": {},
   "outputs": [
    {
     "name": "stderr",
     "output_type": "stream",
     "text": [
      "\u001b[32m2024-07-17 15:14:45.469\u001b[0m | \u001b[1mINFO    \u001b[0m | \u001b[36m__main__\u001b[0m:\u001b[36mdivide\u001b[0m:\u001b[36m10\u001b[0m - \u001b[1mDivision of 10 by 2 = 5.0\u001b[0m\n",
      "\u001b[32m2024-07-17 15:14:45.470\u001b[0m | \u001b[31m\u001b[1mERROR   \u001b[0m | \u001b[36m__main__\u001b[0m:\u001b[36mdivide\u001b[0m:\u001b[36m13\u001b[0m - \u001b[31m\u001b[1mDivision by zero!\u001b[0m\n"
     ]
    }
   ],
   "source": [
    "from loguru import logger\n",
    "\n",
    "# Configuring Loguru to write to a file\n",
    "logger.add(\"app.log\", rotation=\"500 MB\", level=\"INFO\")\n",
    "\n",
    "# Example of using logs\n",
    "def divide(x, y):\n",
    "    try:\n",
    "        result = x / y\n",
    "        logger.info(f\"Division of {x} by {y} = {result}\")\n",
    "        return result\n",
    "    except ZeroDivisionError:\n",
    "        logger.error(\"Division by zero!\")\n",
    "        return None\n",
    "\n",
    "# Calling the function with parameters\n",
    "divide(10, 2)\n",
    "divide(10, 0)"
   ]
  },
  {
   "cell_type": "markdown",
   "id": "e68f5748",
   "metadata": {},
   "source": [
    "## Tests\n",
    "\n",
    "Les tests en Python sont un aspect fondamental du développement de logiciels robustes et fiables. Python offre un écosystème d'outils et de frameworks variés pour les tests, dont les plus populaires sont unittest (intégré à la bibliothèque standard), pytest, et nose. \n",
    "\n",
    "Ces outils permettent de créer et d'exécuter divers types de tests : unitaires pour vérifier le comportement de fonctions ou méthodes individuelles, d'intégration pour tester l'interaction entre différentes parties du système, et fonctionnels pour valider le comportement global de l'application.\n",
    "\n",
    "En général, les tests sont conçus pour couvrir :\n",
    "1. Le comportement normal attendu\n",
    "2. Les cas limites ou particuliers\n",
    "3. Différents types d'entrées possibles\n",
    "\n",
    "Cette approche aide à s'assurer que les fonctions fonctionnent correctement dans une variété de situations, augmentant ainsi la fiabilité du code."
   ]
  },
  {
   "cell_type": "code",
   "execution_count": 1,
   "id": "7b82954f-eec4-4f91-9203-ebc9240ab278",
   "metadata": {},
   "outputs": [],
   "source": [
    "def calculate_average(numbers):\n",
    "    if not numbers:\n",
    "        return 0\n",
    "    return sum(numbers) / len(numbers)\n",
    "\n",
    "# Test correspondant\n",
    "def test_calculate_average():\n",
    "    assert calculate_average([1, 2, 3, 4, 5]) == 3\n",
    "    assert calculate_average([]) == 0\n",
    "    assert calculate_average([1]) == 1"
   ]
  },
  {
   "cell_type": "code",
   "execution_count": 2,
   "id": "fa7e8969",
   "metadata": {},
   "outputs": [],
   "source": [
    "import pandas as pd\n",
    "\n",
    "def get_top_customers(df, n=5):\n",
    "    return df.groupby('customer_id')['total_spent'].sum().nlargest(n)\n",
    "\n",
    "# Test correspondant\n",
    "def test_get_top_customers():\n",
    "    df = pd.DataFrame({\n",
    "        'customer_id': [1, 1, 2, 2, 3, 3, 4],\n",
    "        'total_spent': [100, 150, 200, 50, 300, 100, 75]\n",
    "    })\n",
    "    result = get_top_customers(df, n=3)\n",
    "    assert list(result.index) == [3, 2, 1]\n",
    "    assert list(result.values) == [400, 250, 250]"
   ]
  }
 ],
 "metadata": {
  "kernelspec": {
   "display_name": "pandas2.2",
   "language": "python",
   "name": "python3"
  },
  "language_info": {
   "codemirror_mode": {
    "name": "ipython",
    "version": 3
   },
   "file_extension": ".py",
   "mimetype": "text/x-python",
   "name": "python",
   "nbconvert_exporter": "python",
   "pygments_lexer": "ipython3",
   "version": "3.10.13"
  }
 },
 "nbformat": 4,
 "nbformat_minor": 5
}
