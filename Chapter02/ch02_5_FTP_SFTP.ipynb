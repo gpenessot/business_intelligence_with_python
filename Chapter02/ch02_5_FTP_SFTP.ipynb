{
 "cells": [
  {
   "cell_type": "markdown",
   "metadata": {},
   "source": [
    "# 2.5 FTP / SFTP Servers\n",
    "\n",
    "## 2.5.3 Connection with Python\n",
    "\n",
    "Connect to SFTP server using Paramiko:\n",
    "\n",
    "```python\n",
    "import paramiko\n",
    "\n",
    "# Create an SSH client instance.\n",
    "ssh = paramiko.SSHClient()\n",
    "\n",
    "# Automatically add server's SSH key (without prompting the user).\n",
    "ssh.set_missing_host_key_policy(paramiko.AutoAddPolicy())\n",
    "\n",
    "# Replace with your configuration or read it from a config file.\n",
    "host = \"sftp.example.com\"\n",
    "port = 22\n",
    "username = \"myusername\"\n",
    "password = \"mypassword\"\n",
    "\n",
    "# Connect to the server.\n",
    "try: \n",
    "    ssh.connect(host, port, username, password)\n",
    "    print(\"Connected to the SFTP server\")\n",
    "except paramiko.AuthenticationException:\n",
    "    print(\"Failed to connect to the SFTP server due to wrong username or password.\")\n",
    "\n",
    "\n",
    "# Open an SFTP session.\n",
    "sftp = ssh.open_sftp()\n",
    "```\n",
    "\n",
    "List directory contents:\n",
    "\n",
    "```python\n",
    "path = '/path/to/remote/directory'\n",
    "files = sftp.listdir(path)\n",
    "for file in files:\n",
    "    print(file)\n",
    "```\n",
    "\n",
    "Download a file from SFTP server:\n",
    "\n",
    "```python\n",
    "remote_path = '/path/to/remote/file'\n",
    "local_path = '/path/to/local/file'\n",
    "sftp.get(remote_path, local_path)\n",
    "```"
   ]
  }
 ],
 "metadata": {
  "language_info": {
   "name": "python"
  }
 },
 "nbformat": 4,
 "nbformat_minor": 2
}
