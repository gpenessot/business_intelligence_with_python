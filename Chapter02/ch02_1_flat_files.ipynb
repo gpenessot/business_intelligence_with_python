{
 "cells": [
  {
   "cell_type": "markdown",
   "id": "68c69649-aea2-4f7f-b812-586f3a6a6a79",
   "metadata": {},
   "source": [
    "## 2.1 Basics of pandas"
   ]
  },
  {
   "cell_type": "code",
   "execution_count": 1,
   "id": "7a6d55e9-dcb6-45dc-be74-b24dd78d6daa",
   "metadata": {},
   "outputs": [
    {
     "name": "stdout",
     "output_type": "stream",
     "text": [
      "(3, 3)\n"
     ]
    }
   ],
   "source": [
    "import pandas as pd  \n",
    "\n",
    "# Create a fictional DataFrame \n",
    "data = {'Name': ['Alice', 'Bob', 'Charlie'],\n",
    "        'Age': [25, 30, 35],\n",
    "        'City': ['Paris', 'New York', 'London']}  \n",
    "\n",
    "df = pd.DataFrame(data)  # Display the shape of the DataFrame \n",
    "print(df.shape)"
   ]
  },
  {
   "cell_type": "code",
   "execution_count": 2,
   "id": "5f7310ee-ef39-443f-9406-8a3a5e585ceb",
   "metadata": {},
   "outputs": [
    {
     "name": "stdout",
     "output_type": "stream",
     "text": [
      "Index(['Name', 'Age', 'City'], dtype='object')\n"
     ]
    }
   ],
   "source": [
    "# Display the column names \n",
    "print(df.columns)"
   ]
  },
  {
   "cell_type": "code",
   "execution_count": 3,
   "id": "a9511b2c-3527-4d23-8f07-1b67c5d4b9c4",
   "metadata": {},
   "outputs": [
    {
     "name": "stdout",
     "output_type": "stream",
     "text": [
      "RangeIndex(start=0, stop=3, step=1)\n"
     ]
    }
   ],
   "source": [
    "# Display the row labels \n",
    "print(df.index)"
   ]
  },
  {
   "cell_type": "code",
   "execution_count": 4,
   "id": "b62feeee-56b1-4485-a2c0-5d8ed35de9d5",
   "metadata": {},
   "outputs": [
    {
     "name": "stdout",
     "output_type": "stream",
     "text": [
      "Name    object\n",
      "Age      int64\n",
      "City    object\n",
      "dtype: object\n"
     ]
    }
   ],
   "source": [
    "# Display the data types of the columns \n",
    "print(df.dtypes)"
   ]
  },
  {
   "cell_type": "code",
   "execution_count": null,
   "id": "a5e66e3d-5bdc-40b6-9a99-0fe58e7a97f3",
   "metadata": {},
   "outputs": [
    {
     "name": "stdout",
     "output_type": "stream",
     "text": [
      "      Name  Age      City\n",
      "0    Alice   25     Paris\n",
      "1      Bob   30  New York\n",
      "2  Charlie   35    London\n",
      "      Name  Age      City\n",
      "0    Alice   25     Paris\n",
      "1      Bob   30  New York\n",
      "2  Charlie   35    London\n"
     ]
    }
   ],
   "source": [
    "# Display the first few rows of the DataFrame \n",
    "print(df.head()) \n",
    "\n",
    "# Display the last few rows of the DataFrame \n",
    "print(df.tail())"
   ]
  },
  {
   "cell_type": "markdown",
   "id": "3be63d9f-e4f9-4311-b66c-3adf4a576c71",
   "metadata": {},
   "source": [
    "## 2.2 Read structured or flat files"
   ]
  },
  {
   "cell_type": "markdown",
   "id": "dbb2d5ce-8525-4f5e-9918-853b6d92e313",
   "metadata": {},
   "source": [
    "Let's start by reading a simple and light CSV file."
   ]
  },
  {
   "cell_type": "code",
   "execution_count": null,
   "id": "cd71feea-47b3-4acf-9239-bd47c74bcaf2",
   "metadata": {},
   "outputs": [],
   "source": [
    "CSV_PATH = './data/raw/source.csv'\n",
    "\n",
    "df = pd.read_csv(CSV_PATH, \n",
    "                 sep=';', \n",
    "                 encoding='utf-8')\n",
    "\n",
    "# We can then display a preview of the first few rows to ensure everything is read correctly\n",
    "df.head()"
   ]
  },
  {
   "cell_type": "markdown",
   "id": "fcccce1a-c21d-473d-b404-2bf664e5227f",
   "metadata": {},
   "source": [
    "If file size exceed available RAM size, you will need to chunk the CSV to process it."
   ]
  },
  {
   "cell_type": "code",
   "execution_count": null,
   "id": "63f4ed33-f713-4bdd-bb84-2a26debe6b78",
   "metadata": {},
   "outputs": [],
   "source": [
    "chunk_size = 10000 # number of lines per chunk\n",
    "csv_path = 'big_file.csv'\n",
    "\n",
    "# Create an empty list to store modified chunks\n",
    "modified_chunks = []\n",
    "\n",
    "# Iterate over chunks\n",
    "for i, chunk in enumerate(pd.read_csv(csv_path, chunksize=chunk_size)):\n",
    "    # Apply modifications to the chunk (example: add 1 to a column named 'example_column')\n",
    "    chunk_modifie = chunk.apply(my_function)\n",
    "\n",
    "    # Append the modified chunk to the list\n",
    "    chunk_modifie.to_csv(\n",
    "    f'./data/processed/chunk_modifie_{i}.csv')"
   ]
  },
  {
   "cell_type": "markdown",
   "id": "51d3a385-221b-48ae-82b7-c9bd1c10a2a5",
   "metadata": {},
   "source": [
    "### XLSX\n",
    "\n",
    "It's the same logic for XLSX and XLS files"
   ]
  },
  {
   "cell_type": "code",
   "execution_count": null,
   "id": "62aa7d9e-639f-4d76-b7e5-ecacd97f4e2f",
   "metadata": {},
   "outputs": [],
   "source": [
    "XLSX_PATH = './data/raw/results.xlsx'\n",
    "\n",
    "df = pd.read_excel(XLSX_PATH, \n",
    "\t\t\t\t   sheet_name='Results',\n",
    "\t\t\t\t   usecols=[1,2,3,7,8,9])\n",
    "\n",
    "df.head()"
   ]
  },
  {
   "cell_type": "markdown",
   "id": "c28667cf-e651-4c72-b5a9-adad5cbdf6aa",
   "metadata": {},
   "source": [
    "### JSON\n",
    "\n",
    "You can read JSON file with json standard python library or use pandas : "
   ]
  },
  {
   "cell_type": "code",
   "execution_count": null,
   "id": "d0924c3a-cb2c-4e6f-8293-38f74121be33",
   "metadata": {},
   "outputs": [],
   "source": [
    "def load_json_with_pandas(file_path): \n",
    "    try: \n",
    "        dataframe = pd.read_json(file_path) \n",
    "        return dataframe \n",
    "    except FileNotFoundError: \n",
    "        print(f'The file \"{file_path}\" was not found.')\n",
    "        return None\n",
    "    except pd.errors.JSONDecodeError as e: \n",
    "        print(f'Error reading the JSON file with pandas: {e}') \n",
    "        return None"
   ]
  },
  {
   "cell_type": "markdown",
   "id": "c3a40766",
   "metadata": {},
   "source": [
    "### XML"
   ]
  },
  {
   "cell_type": "code",
   "execution_count": null,
   "id": "234aa54a-d016-4c0f-b910-7464386ca8e4",
   "metadata": {},
   "outputs": [],
   "source": [
    "import xml.etree.ElementTree as ET\n",
    "\n",
    "def load_xml_file(file_path):\n",
    "    try:\n",
    "        tree = ET.parse(file_path)\n",
    "        return tree.getroot()\n",
    "    except ET.ParseError as e:\n",
    "        print(f\"Error reading the XML file: {e}\")\n",
    "        return None\n",
    "\n",
    "def traverse_elements(parent_element):\n",
    "    for child in parent_element:\n",
    "        print(f\"Tag: {child.tag}, Text: {child.text}\")\n",
    "        traverse_elements(child)\n",
    "\n",
    "# Replace 'example.xml' with the path to your XML file\n",
    "xml_file = 'example.xml'\n",
    "root = load_xml_file(xml_file)\n",
    "\n",
    "if root is not None:\n",
    "    traverse_elements(root)"
   ]
  },
  {
   "cell_type": "code",
   "execution_count": null,
   "id": "55a38dd9-71c6-4968-9dfe-f36be86ad525",
   "metadata": {},
   "outputs": [],
   "source": [
    "def load_xml_with_pandas(file_path):\n",
    "    try:\n",
    "        # Using Pandas' read_xml function to load the XML file\n",
    "        dataframe = pd.read_xml(file_path)\n",
    "        return dataframe\n",
    "    except Exception as e:\n",
    "        print(f\"Error reading the XML file with Pandas: {e}\")\n",
    "        return None\n",
    "\n",
    "# Replace 'example.xml' with the path to your XML file\n",
    "xml_file = 'example.xml'\n",
    "xml_dataframe = load_xml_with_pandas(xml_file)\n",
    "\n",
    "if xml_dataframe is not None:\n",
    "    print(xml_dataframe)"
   ]
  },
  {
   "cell_type": "markdown",
   "id": "8271f94d-1946-4cd8-8f09-6ee3648e6362",
   "metadata": {},
   "source": [
    "### PDF"
   ]
  },
  {
   "cell_type": "code",
   "execution_count": 5,
   "id": "4e08f19a-a15c-4858-ad01-1261d847b49f",
   "metadata": {},
   "outputs": [
    {
     "name": "stdout",
     "output_type": "stream",
     "text": [
      "28\n",
      "PRÉCISIONS LIMINAIRES\n",
      "La mise à disposition du public d’un document administratif et des données pub\n"
     ]
    }
   ],
   "source": [
    "import PyPDF2\n",
    "\n",
    "pdf_file = open('./data/guide-open-data.pdf', 'rb')\n",
    "\n",
    "pdf_reader = PyPDF2.PdfReader(pdf_file)\n",
    "\n",
    "# For example, we can access the number of pages in a document\n",
    "print(len(pdf_reader.pages))\n",
    "\n",
    "# Now we create a page object\n",
    "page_0 = pdf_reader.pages[2]\n",
    "\n",
    "# We extract the text from this page using the extract_text() method\n",
    "page_0_content = page_0.extract_text()\n",
    "\n",
    "print(page_0_content[:100]) # Print only 100 first char."
   ]
  },
  {
   "cell_type": "code",
   "execution_count": null,
   "id": "c71ce6d4-a692-4569-9b26-c98b5dca955a",
   "metadata": {},
   "outputs": [],
   "source": [
    "import tabula\n",
    "\n",
    "PDF_PATH = './data/source.pdf'\n",
    "\n",
    "tables = tabula.read(PDF_PATH, pages=1)\n",
    "first_table = tables[0]\n",
    "\n",
    "tabula.convert_into(PDF_PATH, './data/processed/table.csv')"
   ]
  },
  {
   "cell_type": "code",
   "execution_count": null,
   "id": "9c4a0a7c-c809-43b4-b81b-a48bf216a1c4",
   "metadata": {},
   "outputs": [],
   "source": [
    "from img2table.ocr import TesseractOCR\n",
    "from img2table.document import Image\n",
    "\n",
    "# OCR Instantiation\n",
    "ocr = TesseractOCR(n_threads=1, lang=\"en\")\n",
    "\n",
    "# Document Instantiation (image or PDF for example)\n",
    "doc = Image(src)\n",
    "\n",
    "# Table Extraction\n",
    "table = doc.extract_tables(ocr=ocr,\n",
    "                           implicit_rows=False,\n",
    "                           borderless_tables=False,\n",
    "                           min_confidence=50)"
   ]
  },
  {
   "cell_type": "markdown",
   "id": "fd56fba2",
   "metadata": {},
   "source": [
    "### Pictures"
   ]
  },
  {
   "cell_type": "code",
   "execution_count": null,
   "id": "dc3df185",
   "metadata": {},
   "outputs": [],
   "source": [
    "from img2table.ocr import TesseractOCR\n",
    "from img2table.document import Image\n",
    "\n",
    "# OCR Instantiation\n",
    "ocr = TesseractOCR(n_threads=1, lang=\"en\")\n",
    "\n",
    "# Document Instantiation (image or PDF for example)\n",
    "doc = Image(src)\n",
    "\n",
    "# Table Extraction\n",
    "table = doc.extract_tables(ocr=ocr,\n",
    "                           implicit_rows=False,\n",
    "                           borderless_tables=False,\n",
    "                           min_confidence=50)"
   ]
  }
 ],
 "metadata": {
  "kernelspec": {
   "display_name": "pandas2",
   "language": "python",
   "name": "python3"
  },
  "language_info": {
   "codemirror_mode": {
    "name": "ipython",
    "version": 3
   },
   "file_extension": ".py",
   "mimetype": "text/x-python",
   "name": "python",
   "nbconvert_exporter": "python",
   "pygments_lexer": "ipython3",
   "version": "3.10.13"
  }
 },
 "nbformat": 4,
 "nbformat_minor": 5
}
