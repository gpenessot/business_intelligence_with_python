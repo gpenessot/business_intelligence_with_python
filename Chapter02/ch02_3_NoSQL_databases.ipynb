{
 "cells": [
  {
   "cell_type": "markdown",
   "id": "73bd0920",
   "metadata": {
    "vscode": {
     "languageId": "plaintext"
    }
   },
   "source": [
    "# 2.3 NoSQL Databases\n",
    "\n",
    "## 2.3.2 Connection to MongoDB\n",
    "\n",
    "Here's how to perform basic MongoDB operations using PyMongo:\n",
    "\n",
    "```python\n",
    "from pymongo import MongoClient\n",
    "\n",
    "# Establish a connection to MongoDB\n",
    "client = MongoClient('mongodb://localhost:27017/')\n",
    "\n",
    "# Select a database\n",
    "db = client['business_intelligence_db']\n",
    "\n",
    "# Select a collection (equivalent to a table in relational databases)\n",
    "collection = db['sales_data']\n",
    "\n",
    "# Insert a document\n",
    "new_sale = {\n",
    "    \"product\": \"Laptop\",\n",
    "    \"quantity\": 5,\n",
    "    \"price\": 999.99,\n",
    "    \"date\": \"2023-06-15\"\n",
    "}\n",
    "result = collection.insert_one(new_sale)\n",
    "print(f\"Inserted document ID: {result.inserted_id}\")\n",
    "\n",
    "# Query documents\n",
    "query = {\"product\": \"Laptop\"}\n",
    "results = collection.find(query)\n",
    "for doc in results:\n",
    "    print(f\"Found document: {doc}\")\n",
    "\n",
    "# Update a document\n",
    "update_query = {\"product\": \"Laptop\"}\n",
    "new_values = {\"$set\": {\"price\": 1099.99}}\n",
    "collection.update_one(update_query, new_values)\n",
    "\n",
    "# Delete a document\n",
    "delete_query = {\"product\": \"Laptop\"}\n",
    "collection.delete_one(delete_query)\n",
    "\n",
    "# Close the connection\n",
    "client.close()\n",
    "```"
   ]
  }
 ],
 "metadata": {
  "kernelspec": {
   "display_name": "pandas2",
   "language": "python",
   "name": "python3"
  },
  "language_info": {
   "name": "python",
   "version": "3.10.13"
  }
 },
 "nbformat": 4,
 "nbformat_minor": 5
}
